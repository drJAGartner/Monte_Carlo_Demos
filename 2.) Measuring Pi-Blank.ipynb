{
 "cells": [
  {
   "cell_type": "markdown",
   "metadata": {},
   "source": [
    "<h1>Measuring Pi</h1>\n",
    "<p>\n",
    "A fun application of the Monte Carlo method is to approximate $\\pi$ by simulating darts.  Take a look at <a href=\"https://github.com/drJAGartner/pi_day/blob/master/numberLine.png\">this image</a> of a circle which is contained within a square.  Consider only the top $\\frac{1}{4}$ of the circle/square.  If the circle radius is 1, we know that:</p>\n",
    "$A_{circle} = \\frac{\\pi*r^2}{4} = \\frac{\\pi}{4}$\n",
    "<p> and </p>\n",
    "$A_{square} = (r)^2 = 1$\n",
    "\n",
    "<br>\n",
    "<p>It then follows that</p>\n",
    "$\\pi = 4*\\frac{A_{circle}}{A_{square}} = 4 * R_{cs}$\n",
    "<br>\n",
    "<p>Where $R_{cs}$ is the ratio of the two areas.  One way of approximating this is by calculating the ratio of points inside the circle radius, to those in the square.  If we remember correctly, since points have no space, this is an infinite probability space!  Here we can use  the Monte Carlo method to simulate 'throwing darts', i.e. generating points in the square [0,1), [0,1) to approximate this Ratio.<p>\n",
    "\n",
    "\n",
    "<p>Let's start by defining the functions we'll need</p>\n"
   ]
  },
  {
   "cell_type": "code",
   "execution_count": null,
   "metadata": {
    "collapsed": true
   },
   "outputs": [],
   "source": [
    "import plotly.graph_objs as go\n",
    "from plotly.offline import download_plotlyjs, init_notebook_mode, plot, iplot\n",
    "init_notebook_mode(connected=True)\n",
    "\n",
    "from math import sqrt\n",
    "import random\n",
    "import numpy as np\n",
    "from scipy.optimize import curve_fit\n",
    "\n",
    "def point():\n",
    "    return #return a tuple with an x and y value\n",
    "\n",
    "def in_circle(point):\n",
    "    return #return 1 if the point is in the circle, 0 otherwise\n",
    "\n",
    "def ratio(n_trials):\n",
    "    #return a single float that is the result of an experiment of n trials"
   ]
  },
  {
   "cell_type": "markdown",
   "metadata": {
    "collapsed": true
   },
   "source": [
    "<h2>Run the trials</h2>\n",
    "<p>Now that you have the apperatus to run an experement of n trials in length, you can just create a loop to run many experiments, and compare the accuracy of a particular experiment over varying length</p>"
   ]
  },
  {
   "cell_type": "code",
   "execution_count": null,
   "metadata": {
    "collapsed": true
   },
   "outputs": [],
   "source": [
    "r3, r4, r5 = [], [], []\n",
    "\n",
    "#This will take a few minutes to run\n",
    "n_exp = 1000\n",
    "for i in range(n_exp):\n",
    "    if i%(n_exp/10)==0:\n",
    "        print \"Completed {}%\".format((100.*i)/n_exp)\n",
    "    r3.append(ratio(1000))\n",
    "    r4.append(ratio(10000))\n",
    "    r5.append(ratio(100000))\n",
    "    "
   ]
  },
  {
   "cell_type": "markdown",
   "metadata": {},
   "source": [
    "<h2>Create Histograms of results, fit the data</h2>\n",
    "<p>I define these functions for you, but if you don't understand any part, let me know and we can discuss</p>"
   ]
  },
  {
   "cell_type": "code",
   "execution_count": null,
   "metadata": {
    "collapsed": true
   },
   "outputs": [],
   "source": [
    "def normal(x, mu, sig, c):\n",
    "    return c*(1/sqrt(2*np.pi*sig*sig))*np.exp(-(x-mu)*(x-mu)/(2*sig*sig))\n",
    "\n",
    "def stat_calc(ratios, bins, centers, curve_X):\n",
    "    # Create a histogram of the measured ratios\n",
    "    hist, edges = np.histogram(ratios, bins=bins)\n",
    "    # Fit data to Normal Distribution\n",
    "    fit_pars, covariance = curve_fit(normal, centers[1:-1], hist[1:-1], p0=(3.14, 0.1, 100))\n",
    "    # Create data to plot the fit\n",
    "    curve = normal(curve_X, *fit_pars)\n",
    "    return (hist, fit_pars, curve)"
   ]
  },
  {
   "cell_type": "markdown",
   "metadata": {
    "collapsed": true
   },
   "source": [
    "<h2>Present the data</h2>\n",
    "<p>You now have the data to describe both the simulation, and the fit of the data.  Try to think of a way to best communicate the results</p>"
   ]
  },
  {
   "cell_type": "code",
   "execution_count": null,
   "metadata": {
    "collapsed": true
   },
   "outputs": [],
   "source": [
    "# Your code here"
   ]
  }
 ],
 "metadata": {
  "kernelspec": {
   "display_name": "Python [Root]",
   "language": "python",
   "name": "Python [Root]"
  },
  "language_info": {
   "codemirror_mode": {
    "name": "ipython",
    "version": 2
   },
   "file_extension": ".py",
   "mimetype": "text/x-python",
   "name": "python",
   "nbconvert_exporter": "python",
   "pygments_lexer": "ipython2",
   "version": "2.7.12"
  }
 },
 "nbformat": 4,
 "nbformat_minor": 0
}
