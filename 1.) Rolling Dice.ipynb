{
 "cells": [
  {
   "cell_type": "markdown",
   "metadata": {},
   "source": [
    "<h1>Simple examples of how Monte Carlo simulation can be used</h1>\n",
    "<p>Statisitics problems are often challenging in cases where multiple interacting probabalistic entities interact.  In statistics, we often start with either rolling dice.  We'll start by creating our dice simulators.</p>"
   ]
  },
  {
   "cell_type": "code",
   "execution_count": 16,
   "metadata": {
    "collapsed": false
   },
   "outputs": [
    {
     "data": {
      "text/html": [
       "<script>requirejs.config({paths: { 'plotly': ['https://cdn.plot.ly/plotly-latest.min']},});if(!window.Plotly) {{require(['plotly'],function(plotly) {window.Plotly=plotly;});}}</script>"
      ],
      "text/plain": [
       "<IPython.core.display.HTML object>"
      ]
     },
     "metadata": {},
     "output_type": "display_data"
    }
   ],
   "source": [
    "import plotly.graph_objs as go\n",
    "from plotly.offline import download_plotlyjs, init_notebook_mode, plot, iplot\n",
    "init_notebook_mode(connected=True)\n",
    "\n",
    "import random\n",
    "import numpy as np\n",
    "from math import sqrt\n",
    "\n",
    "def roll_fair(n_face=6):\n",
    "    return random.randint(1,n_face)\n",
    "    \n",
    "def two_dice_pmf():\n",
    "    res = [0.]*11\n",
    "    for i in range(1,7):\n",
    "        for j in range(1,7):\n",
    "            res[i+j-2] += 1.\n",
    "    return map(lambda x: x/np.sum(res), res)\n",
    "\n",
    "def roll_two():\n",
    "    return roll_fair() + roll_fair()"
   ]
  },
  {
   "cell_type": "markdown",
   "metadata": {},
   "source": [
    "<h2>Let's start with a simple multinomial probability</h2>"
   ]
  },
  {
   "cell_type": "code",
   "execution_count": 52,
   "metadata": {
    "collapsed": false
   },
   "outputs": [
    {
     "data": {
      "text/html": [
       "<div id=\"af3b03f9-40bd-4698-ab8b-a5c8bb1adc5b\" style=\"height: 525px; width: 100%;\" class=\"plotly-graph-div\"></div><script type=\"text/javascript\">require([\"plotly\"], function(Plotly) { window.PLOTLYENV=window.PLOTLYENV || {};window.PLOTLYENV.BASE_URL=\"https://plot.ly\";Plotly.newPlot(\"af3b03f9-40bd-4698-ab8b-a5c8bb1adc5b\", [{\"marker\": {\"color\": \"#990000\"}, \"y\": [0.027777777777777776, 0.05555555555555555, 0.08333333333333333, 0.1111111111111111, 0.1388888888888889, 0.16666666666666666, 0.1388888888888889, 0.1111111111111111, 0.08333333333333333, 0.05555555555555555, 0.027777777777777776], \"type\": \"bar\", \"name\": \"Multinomial PMF\", \"x\": [2.0, 3.0, 4.0, 5.0, 6.0, 7.0, 8.0, 9.0, 10.0, 11.0, 12.0, 13.0]}], {\"title\": \"2 Dice PMF\", \"xaxis\": {\"titlefont\": {\"color\": \"black\", \"size\": 14}, \"title\": \"Roll Result\"}, \"yaxis\": {\"titlefont\": {\"color\": \"black\", \"size\": 14}, \"title\": \"Probability\"}}, {\"linkText\": \"Export to plot.ly\", \"showLink\": true})});</script>"
      ],
      "text/plain": [
       "<IPython.core.display.HTML object>"
      ]
     },
     "metadata": {},
     "output_type": "display_data"
    }
   ],
   "source": [
    "data = [\n",
    "    go.Bar(\n",
    "        name=\"Multinomial PMF\",\n",
    "        x=bins,\n",
    "        y=two_dice_pmf(),\n",
    "        marker=dict(\n",
    "            color='#990000'\n",
    "        )\n",
    "    )\n",
    "    \n",
    "]\n",
    "\n",
    "\n",
    "layout = go.Layout(\n",
    "    title='2 Dice PMF',\n",
    "    xaxis=dict(\n",
    "        title='Roll Result',\n",
    "        titlefont=dict(\n",
    "            size=14,\n",
    "            color='black'\n",
    "        )\n",
    "    ),\n",
    "    yaxis=dict(\n",
    "        title='Probability',\n",
    "        titlefont=dict(\n",
    "            size=14,\n",
    "            color='black'\n",
    "        )\n",
    "    )\n",
    ")\n",
    "fig = go.Figure(data=data, layout=layout)\n",
    "iplot(fig, filename='dice_pmf')"
   ]
  },
  {
   "cell_type": "code",
   "execution_count": 76,
   "metadata": {
    "collapsed": false
   },
   "outputs": [
    {
     "data": {
      "text/html": [
       "<div id=\"9cc4b9c0-eb85-433a-bcd0-4ba2f455d0a4\" style=\"height: 525px; width: 100%;\" class=\"plotly-graph-div\"></div><script type=\"text/javascript\">require([\"plotly\"], function(Plotly) { window.PLOTLYENV=window.PLOTLYENV || {};window.PLOTLYENV.BASE_URL=\"https://plot.ly\";Plotly.newPlot(\"9cc4b9c0-eb85-433a-bcd0-4ba2f455d0a4\", [{\"error_y\": {\"color\": \"black\", \"visible\": true, \"array\": [0.014, 0.0099498743710662, 0.030000000000000002, 0.03128897569432403, 0.0375632799419859, 0.03666060555964672, 0.03666060555964672, 0.03249615361854384, 0.021794494717703367, 0.02551470164434615, 0.01705872210923198], \"type\": \"data\"}, \"marker\": {\"color\": \"black\"}, \"mode\": \"markers\", \"y\": [0.02, 0.01, 0.1, 0.11, 0.17, 0.16, 0.16, 0.12, 0.05, 0.07, 0.03], \"x\": [2.0, 3.0, 4.0, 5.0, 6.0, 7.0, 8.0, 9.0, 10.0, 11.0, 12.0, 13.0], \"type\": \"scatter\", \"name\": \"100 Trials\"}, {\"error_y\": {\"color\": \"green\", \"visible\": true, \"array\": [0.0016061677994530959, 0.0023222437425903424, 0.002809538040319084, 0.003191425856885916, 0.0034032970778349633, 0.003716312015964214, 0.0034677941115354586, 0.003179326815538157, 0.0027252772336039503, 0.002230330692969094, 0.0016611273280516458], \"type\": \"data\"}, \"marker\": {\"color\": \"green\"}, \"mode\": \"markers\", \"y\": [0.0265, 0.0572, 0.0864, 0.1151, 0.1337, 0.1655, 0.1398, 0.1141, 0.0808, 0.0525, 0.0284], \"x\": [2.0, 3.0, 4.0, 5.0, 6.0, 7.0, 8.0, 9.0, 10.0, 11.0, 12.0, 13.0], \"type\": \"scatter\", \"name\": \"10,000 Trials\"}, {\"marker\": {\"color\": \"#990000\"}, \"y\": [0.027777777777777776, 0.05555555555555555, 0.08333333333333333, 0.1111111111111111, 0.1388888888888889, 0.16666666666666666, 0.1388888888888889, 0.1111111111111111, 0.08333333333333333, 0.05555555555555555, 0.027777777777777776], \"type\": \"bar\", \"name\": \"Multinomial PMF\", \"x\": [2.0, 3.0, 4.0, 5.0, 6.0, 7.0, 8.0, 9.0, 10.0, 11.0, 12.0, 13.0]}], {\"title\": \"2 Dice PMF w/ Simulated trials\", \"xaxis\": {\"titlefont\": {\"color\": \"black\", \"size\": 14}, \"title\": \"Roll Result\"}, \"yaxis\": {\"titlefont\": {\"color\": \"black\", \"size\": 14}, \"title\": \"Probability\"}}, {\"linkText\": \"Export to plot.ly\", \"showLink\": true})});</script>"
      ],
      "text/plain": [
       "<IPython.core.display.HTML object>"
      ]
     },
     "metadata": {},
     "output_type": "display_data"
    }
   ],
   "source": [
    "def roll_results(n_rolls):\n",
    "    res = []\n",
    "    for i in range(n_rolls):\n",
    "        res.append(roll_two())\n",
    "    \n",
    "    occ, edges = np.histogram(res, bins=map(lambda x: x+0.5, range(1,13)), density=True)\n",
    "    err = map(lambda x: sqrt(((1-x)*x)/n_rolls), occ)\n",
    "    return (occ, edges, err)\n",
    "\n",
    "occ2, edges, err2 = roll_results(100)\n",
    "occ4, edges, err4 = roll_results(10000)\n",
    "bins = map(lambda x: x+.5, edges)    \n",
    "    \n",
    "data = [\n",
    "    go.Scatter(\n",
    "        name=\"100 Trials\",\n",
    "        x=bins,\n",
    "        y=occ2,\n",
    "        mode = 'markers',\n",
    "        marker=dict(\n",
    "            color='black',\n",
    "        ),\n",
    "        error_y=dict(\n",
    "            type='data',\n",
    "            array=err2,\n",
    "            visible=True,\n",
    "            color='black'\n",
    "        )\n",
    "    ),\n",
    "    go.Scatter(\n",
    "        name=\"10,000 Trials\",\n",
    "        x=bins,\n",
    "        y=occ4,\n",
    "        mode = 'markers',\n",
    "        marker=dict(\n",
    "            color='green',\n",
    "        ),\n",
    "        error_y=dict(\n",
    "            type='data',\n",
    "            array=err4,\n",
    "            visible=True,\n",
    "            color='green'\n",
    "        )\n",
    "    ),\n",
    "    go.Bar(\n",
    "        name=\"Multinomial PMF\",\n",
    "        x=bins,\n",
    "        y=two_dice_pmf(),\n",
    "        marker=dict(\n",
    "            color='#990000'\n",
    "        )\n",
    "    )\n",
    "    \n",
    "]\n",
    "\n",
    "layout = go.Layout(\n",
    "    title='2 Dice PMF w/ Simulated trials',\n",
    "    xaxis=dict(\n",
    "        title='Roll Result',\n",
    "        titlefont=dict(\n",
    "            size=14,\n",
    "            color='black'\n",
    "        )\n",
    "    ),\n",
    "    yaxis=dict(\n",
    "        title='Probability',\n",
    "        titlefont=dict(\n",
    "            size=14,\n",
    "            color='black'\n",
    "        )\n",
    "    )\n",
    ")\n",
    "fig = go.Figure(data=data, layout=layout)\n",
    "iplot(fig, filename='dice_pmf_w_sim')"
   ]
  },
  {
   "cell_type": "code",
   "execution_count": 74,
   "metadata": {
    "collapsed": true
   },
   "outputs": [],
   "source": [
    "def interacting_dice_pmf():\n",
    "    res = [0.]*11\n",
    "    for i in range(1,7):\n",
    "        for j in range(1,7):\n",
    "            if i+j < 7:\n",
    "                for k in range(1,7):\n",
    "                    res[k+j-2] += 1.\n",
    "            else:\n",
    "                #because the other branch has 6 subtrees, \n",
    "                #every possibility must have equal weight\n",
    "                res[i+j-2] += 6.\n",
    "    print np.sum(res)\n",
    "    return map(lambda x: x/np.sum(res), res)\n",
    "\n",
    "def int_roll_results(n_rolls):\n",
    "    res = []\n",
    "    for i in range(n_rolls):\n",
    "        r1 = roll_fair()\n",
    "        r2 = roll_fair()\n",
    "        if r1+r2 < 7:\n",
    "            r1 = roll_fair()\n",
    "        res.append(r1+r2)\n",
    "    \n",
    "    occ, edges = np.histogram(res, bins=map(lambda x: x+0.5, range(1,13)), density=True)\n",
    "    err = map(lambda x: sqrt(((1-x)*x)/n_rolls) if x !=0 else 1, occ)\n",
    "    return (occ, edges, err)"
   ]
  },
  {
   "cell_type": "code",
   "execution_count": 77,
   "metadata": {
    "collapsed": false
   },
   "outputs": [
    {
     "name": "stdout",
     "output_type": "stream",
     "text": [
      "216.0\n"
     ]
    },
    {
     "data": {
      "text/html": [
       "<div id=\"84587a8d-3134-434d-8307-984146595268\" style=\"height: 525px; width: 100%;\" class=\"plotly-graph-div\"></div><script type=\"text/javascript\">require([\"plotly\"], function(Plotly) { window.PLOTLYENV=window.PLOTLYENV || {};window.PLOTLYENV.BASE_URL=\"https://plot.ly\";Plotly.newPlot(\"84587a8d-3134-434d-8307-984146595268\", [{\"error_y\": {\"color\": \"black\", \"visible\": true, \"array\": [0.004839834707921336, 0.006046155803483731, 0.006892024376045111, 0.007683163410991596, 0.007683163410991596, 0.013619251080731275, 0.012455360291858283, 0.011353237423748346, 0.008676174272108648, 0.00708456067798138, 0.005969170796685248], \"type\": \"data\"}, \"marker\": {\"color\": \"black\"}, \"mode\": \"markers\", \"y\": [0.024, 0.038, 0.05, 0.063, 0.063, 0.246, 0.192, 0.152, 0.082, 0.053, 0.037], \"x\": [2.0, 3.0, 4.0, 5.0, 6.0, 7.0, 8.0, 9.0, 10.0, 11.0, 12.0, 13.0], \"type\": \"scatter\", \"name\": \"1000 Trials\"}, {\"error_y\": {\"color\": \"green\", \"visible\": true, \"array\": [0.0014894532553927297, 0.0020195355901790886, 0.0023241495218681604, 0.002429629601400181, 0.002566577292816252, 0.004243732319550798, 0.003852665440964216, 0.0034353036255911932, 0.0030026648164588735, 0.0023822644689454613, 0.0016864610876032686], \"type\": \"data\"}, \"marker\": {\"color\": \"green\"}, \"mode\": \"markers\", \"y\": [0.0227, 0.0426, 0.0573, 0.063, 0.0709, 0.2356, 0.1813, 0.1367, 0.1002, 0.0604, 0.0293], \"x\": [2.0, 3.0, 4.0, 5.0, 6.0, 7.0, 8.0, 9.0, 10.0, 11.0, 12.0, 13.0], \"type\": \"scatter\", \"name\": \"10,000 Trials\"}, {\"marker\": {\"color\": \"#990000\"}, \"y\": [0.023148148148148147, 0.041666666666666664, 0.05555555555555555, 0.06481481481481481, 0.06944444444444445, 0.2361111111111111, 0.18518518518518517, 0.1388888888888889, 0.09722222222222222, 0.06018518518518518, 0.027777777777777776], \"type\": \"bar\", \"name\": \"Multinomial PMF\", \"x\": [2.0, 3.0, 4.0, 5.0, 6.0, 7.0, 8.0, 9.0, 10.0, 11.0, 12.0, 13.0]}], {\"title\": \"2 Interacting Dice PMF w/ Simulated trials\", \"xaxis\": {\"titlefont\": {\"color\": \"black\", \"size\": 14}, \"title\": \"Roll Result\"}, \"yaxis\": {\"titlefont\": {\"color\": \"black\", \"size\": 14}, \"title\": \"Probability\"}}, {\"linkText\": \"Export to plot.ly\", \"showLink\": true})});</script>"
      ],
      "text/plain": [
       "<IPython.core.display.HTML object>"
      ]
     },
     "metadata": {},
     "output_type": "display_data"
    }
   ],
   "source": [
    "def roll_results(n_rolls):\n",
    "    res = []\n",
    "    for i in range(n_rolls):\n",
    "        res.append(roll_two())\n",
    "    \n",
    "    occ, edges = np.histogram(res, bins=map(lambda x: x+0.5, range(1,13)), density=True)\n",
    "    err = map(lambda x: ((1-x)*x)/n_rolls, occ)\n",
    "    return (occ, edges, err)\n",
    "\n",
    "occ2, edges, err2 = int_roll_results(1000)\n",
    "occ4, edges, err4 = int_roll_results(10000)\n",
    "bins = map(lambda x: x+.5, edges)    \n",
    "    \n",
    "data = [\n",
    "    go.Scatter(\n",
    "        name=\"1000 Trials\",\n",
    "        x=bins,\n",
    "        y=occ2,\n",
    "        mode = 'markers',\n",
    "        marker=dict(\n",
    "            color='black',\n",
    "        ),\n",
    "        error_y=dict(\n",
    "            type='data',\n",
    "            array=err2,\n",
    "            visible=True,\n",
    "            color='black'\n",
    "        )\n",
    "    ),\n",
    "    go.Scatter(\n",
    "        name=\"10,000 Trials\",\n",
    "        x=bins,\n",
    "        y=occ4,\n",
    "        mode = 'markers',\n",
    "        marker=dict(\n",
    "            color='green',\n",
    "        ),\n",
    "        error_y=dict(\n",
    "            type='data',\n",
    "            array=err4,\n",
    "            visible=True,\n",
    "            color='green'\n",
    "        )\n",
    "    ),\n",
    "    go.Bar(\n",
    "        name=\"Multinomial PMF\",\n",
    "        x=bins,\n",
    "        y=interacting_dice_pmf(),\n",
    "        marker=dict(\n",
    "            color='#990000'\n",
    "        )\n",
    "    )\n",
    "    \n",
    "]\n",
    "\n",
    "layout = go.Layout(\n",
    "    title='2 Interacting Dice PMF w/ Simulated trials',\n",
    "    xaxis=dict(\n",
    "        title='Roll Result',\n",
    "        titlefont=dict(\n",
    "            size=14,\n",
    "            color='black'\n",
    "        )\n",
    "    ),\n",
    "    yaxis=dict(\n",
    "        title='Probability',\n",
    "        titlefont=dict(\n",
    "            size=14,\n",
    "            color='black'\n",
    "        )\n",
    "    )\n",
    ")\n",
    "fig = go.Figure(data=data, layout=layout)\n",
    "iplot(fig, filename='int_dice_pmf_w_sim')"
   ]
  },
  {
   "cell_type": "code",
   "execution_count": null,
   "metadata": {
    "collapsed": true
   },
   "outputs": [],
   "source": []
  }
 ],
 "metadata": {
  "kernelspec": {
   "display_name": "Python [Root]",
   "language": "python",
   "name": "Python [Root]"
  },
  "language_info": {
   "codemirror_mode": {
    "name": "ipython",
    "version": 2
   },
   "file_extension": ".py",
   "mimetype": "text/x-python",
   "name": "python",
   "nbconvert_exporter": "python",
   "pygments_lexer": "ipython2",
   "version": "2.7.12"
  }
 },
 "nbformat": 4,
 "nbformat_minor": 0
}
